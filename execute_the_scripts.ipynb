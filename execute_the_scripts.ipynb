{
 "cells": [
  {
   "cell_type": "markdown",
   "metadata": {},
   "source": [
    "# Notebook -- run\n",
    "This notebook is used to run all the scripts of this project. Step by step, we create the data used in neo4j:   \n",
    "the nodes and the relationships for the clustering graph and bitcoin network.    \n",
    "\n",
    "Before running the script make sure that you have the bitcoin transactions data in JSON format stored in your  \n",
    "working directory.\n",
    "\n",
    "###### to modify a script :\n",
    "%load script_name.py\n",
    "###### get help for a function or script: \n",
    "help(functions_write_save_load_data)  \n",
    "help(create_data_clustering_h1)\n"
   ]
  },
  {
   "cell_type": "markdown",
   "metadata": {},
   "source": [
    "######  Set the necessary paths"
   ]
  },
  {
   "cell_type": "code",
   "execution_count": null,
   "metadata": {},
   "outputs": [],
   "source": [
    "import os\n",
    "import sys\n",
    "sys.path.insert(0, './source')\n",
    "sys.path.insert(0, './run')\n",
    "sys.path.insert(0, './neo4j_scripts')\n",
    "print(os.getcwd())"
   ]
  },
  {
   "cell_type": "code",
   "execution_count": null,
   "metadata": {},
   "outputs": [],
   "source": [
    "# example to get help\n",
    "import functions_write_save_load_data\n",
    "help(functions_write_save_load_data)  "
   ]
  },
  {
   "cell_type": "code",
   "execution_count": null,
   "metadata": {},
   "outputs": [],
   "source": [
    "# example to get help : function\n",
    "from functions_extract_transform_data import rewrite\n",
    "help(rewrite)"
   ]
  },
  {
   "cell_type": "code",
   "execution_count": null,
   "metadata": {},
   "outputs": [],
   "source": [
    "# example to get help : script\n",
    "import create_data_clustering_h1\n",
    "help(create_data_clustering_h1)"
   ]
  },
  {
   "cell_type": "markdown",
   "metadata": {},
   "source": [
    "# Step 1 : Execute create_data_clustering.py\n",
    "This will transform the BTC data and create the data necessary for the addresses clustering.  \n",
    "It will create the nodes and the relationships for the clustering graph."
   ]
  },
  {
   "cell_type": "code",
   "execution_count": null,
   "metadata": {},
   "outputs": [],
   "source": [
    "# Generate all the necesary data for the clustering graph with heuristic 1\n",
    "%time exec(open(\"run/create_data_clustering_h1.py\").read())"
   ]
  },
  {
   "cell_type": "code",
   "execution_count": null,
   "metadata": {},
   "outputs": [],
   "source": [
    "# If you want to apply the change address heuristic to the data\n",
    "%time exec(open(\"run/add_heuristic_change_address.py\").read())"
   ]
  },
  {
   "cell_type": "markdown",
   "metadata": {},
   "source": [
    "# Step 2 : Build the clustering graph on Neo4j\n",
    "- The nodes and the relationships are already created and stored in the working directory.  \n",
    "- Run on a terminal or on a SSH, the code stored in the script \"neo4j_script_clustering_graph.sh\".  \n",
    "- Run neo4j. \n",
    "- Then comeback to this notebook and run the following cells."
   ]
  },
  {
   "cell_type": "code",
   "execution_count": null,
   "metadata": {},
   "outputs": [],
   "source": [
    "# # On windows \n",
    "# from functions_write_save_load_data import run_terminal_script\n",
    "\n",
    "# run_terminal_script('neo4j_scripts/neo4j_script_clustering_graph.bat')"
   ]
  },
  {
   "cell_type": "code",
   "execution_count": null,
   "metadata": {},
   "outputs": [],
   "source": [
    "# # On linux \n",
    "# from functions_write_save_load_data import run_terminal_script\n",
    "\n",
    "# run_terminal_script('neo4j_scripts/neo4j_script_clustering_graph.sh')"
   ]
  },
  {
   "cell_type": "code",
   "execution_count": null,
   "metadata": {},
   "outputs": [],
   "source": [
    "# Connection to the Neo4j Graph (from laptop)\n",
    "from py2neo import Graph\n",
    "\n",
    "graph = Graph(\"bolt://localhost:7687\", auth=(\"neo4j\", \"*****\"))"
   ]
  },
  {
   "cell_type": "code",
   "execution_count": null,
   "metadata": {},
   "outputs": [],
   "source": [
    "# Connection to the Neo4j Graph in the server\n",
    "from py2neo import Graph\n",
    "\n",
    "graph = Graph(\"bolt://134.214.108.191:7687\", auth=(\"neo4j\", \"++++++++\"))"
   ]
  },
  {
   "cell_type": "code",
   "execution_count": null,
   "metadata": {
    "scrolled": true
   },
   "outputs": [],
   "source": [
    "# Simple check\n",
    "graph.run(\"MATCH (a:Addresses) RETURN a LIMIT 10\").to_ndarray()"
   ]
  },
  {
   "cell_type": "code",
   "execution_count": null,
   "metadata": {},
   "outputs": [],
   "source": [
    "# Application of the algorithm UnionFind\n",
    "graph.run(\n",
    "    \"CALL algo.unionFind('Addresses','SAME_ACT', {write:true, partitionProperty:'partition', concurrency:19})\"\n",
    ")"
   ]
  },
  {
   "cell_type": "code",
   "execution_count": null,
   "metadata": {},
   "outputs": [],
   "source": [
    "# Check the result\n",
    "graph.run(\"MATCH (a:Addresses) RETURN a LIMIT 10\").to_ndarray()"
   ]
  },
  {
   "cell_type": "code",
   "execution_count": null,
   "metadata": {},
   "outputs": [],
   "source": [
    "# Export the partitions. The result will be stored as neo4j partitions\n",
    "# in the folder /var/lib/neo4j/import\n",
    "graph.run(\n",
    "    'CALL apoc.export.csv.query(\"MATCH (n:Addresses) RETURN n.partition AS cluster_id, n.name AS address_id\",\"neo4j_partitions.csv\", {})'\n",
    ")\n",
    "print(\"The partitions are stored in /var/lib/neo4j/import as neo4j_partitions.\")"
   ]
  },
  {
   "cell_type": "markdown",
   "metadata": {},
   "source": [
    "# Step 3: Export the partitions \n",
    "from /var/lib/neo4j/import to the python working directory ~/Bitcoin_Transaction_analysis  \n",
    "To do that, run the script \"neo4j_export_partitions.sh\" on the terminal. "
   ]
  },
  {
   "cell_type": "code",
   "execution_count": null,
   "metadata": {},
   "outputs": [],
   "source": [
    "# # on windows \n",
    "# from functions_write_save_load_data import run_terminal_script\n",
    "\n",
    "# run_terminal_script('neo4j_script_export_partitions.bat')"
   ]
  },
  {
   "cell_type": "markdown",
   "metadata": {},
   "source": [
    "# Step 4: Execute build_clusters.py\n",
    "Running this script will build the clusters from the neo4j_partitions.csv to a dictionary.  \n",
    "Then all unique addresses (clusters with size 1) is added to the clusters."
   ]
  },
  {
   "cell_type": "code",
   "execution_count": null,
   "metadata": {},
   "outputs": [],
   "source": [
    "%time exec(open(\"run/build_clusters.py\").read())"
   ]
  },
  {
   "cell_type": "markdown",
   "metadata": {},
   "source": [
    "# Step 5: Execute create_data_general_graph.py\n",
    "Create the csv files containing the data for the construction of the bitcoin graph.     \n",
    "The nodes of the graph : the addresses, the transactions, the clusters    \n",
    "The relationships of the graph : addresses-transactions, addresses-clusters      \n",
    "\n",
    "The dictionary of labels is used in the 'create_data_general_graph.py' in order to add the  \n",
    "true 'identity' of an address to the properties of the addresses nodes. To create this dictionary,  \n",
    "run the following notebook : create_dictionary_of_identities.ipynb. You will need to have in your working directory the data : \n",
    "- addresses1.csv, addresses2.csv, addresses3.csv, addresses4.csv\n",
    "- meiklejohn.csv\n",
    "- bttalk.json\n",
    "\n",
    "If you don't want to add the addresses label's to the graph, you can change it in the script   \n",
    "'./source/nodes_links_using_dic.py' by specifying \"dic_names = None\" in the parameters of the function. "
   ]
  },
  {
   "cell_type": "code",
   "execution_count": null,
   "metadata": {},
   "outputs": [],
   "source": [
    "# Optional, can be skipped\n",
    "# Running this notebook will create the dictionary of names in the working directory\n",
    "!jupyter nbconvert --to notebook --execute create_dictionary_of_identities.ipynb"
   ]
  },
  {
   "cell_type": "code",
   "execution_count": null,
   "metadata": {},
   "outputs": [],
   "source": [
    "# create the nodes, the links of the bitcoin user graph\n",
    "%time exec(open(\"run/create_data_bitcoin_graph.py\").read())"
   ]
  },
  {
   "cell_type": "markdown",
   "metadata": {},
   "source": [
    "# Step 6: Build the Bitcoin Graph on Neo4j \n",
    "Go back to the SSH and run the script 'neo4j_script_bitcoin_graph.sh.'"
   ]
  },
  {
   "cell_type": "code",
   "execution_count": null,
   "metadata": {},
   "outputs": [],
   "source": [
    "# # On linux\n",
    "# from functions_write_save_load_data import run_terminal_script\n",
    "\n",
    "# run_terminal_script('neo4j_scripts/neo4j_script_bitcoin_graph.sh')"
   ]
  },
  {
   "cell_type": "code",
   "execution_count": null,
   "metadata": {},
   "outputs": [],
   "source": [
    "# check \n",
    "# Connection to the Neo4j Graph in the server\n",
    "from py2neo import Graph\n",
    "\n",
    "graph = Graph(\"bolt://134.214.108.191:7687\", auth=(\"neo4j\", \"++++++++\"))"
   ]
  }
 ],
 "metadata": {
  "kernelspec": {
   "display_name": "Python 3",
   "language": "python",
   "name": "python3"
  },
  "language_info": {
   "codemirror_mode": {
    "name": "ipython",
    "version": 3
   },
   "file_extension": ".py",
   "mimetype": "text/x-python",
   "name": "python",
   "nbconvert_exporter": "python",
   "pygments_lexer": "ipython3",
   "version": "3.7.5"
  },
  "toc": {
   "base_numbering": 1,
   "nav_menu": {},
   "number_sections": true,
   "sideBar": true,
   "skip_h1_title": false,
   "title_cell": "Table of Contents",
   "title_sidebar": "Contents",
   "toc_cell": false,
   "toc_position": {
    "height": "calc(100% - 180px)",
    "left": "10px",
    "top": "150px",
    "width": "384px"
   },
   "toc_section_display": true,
   "toc_window_display": true
  }
 },
 "nbformat": 4,
 "nbformat_minor": 4
}
