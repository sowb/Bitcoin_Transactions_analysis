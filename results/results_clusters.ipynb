{
 "cells": [
  {
   "cell_type": "markdown",
   "metadata": {},
   "source": [
    "# Results obtained from the clusters\n",
    "* Comparison between the clustering with h1 and the clustering with h1-h2\n",
    "* Note! Before running this notebook : \n",
    "    - You need to do the clustering with h1 and h1-h2\n",
    "    - and save  the clusters in files names as  \n",
    "      all_h1_clusters.pickle and all_h1h2_clusters.pickle\n",
    "    "
   ]
  },
  {
   "cell_type": "code",
   "execution_count": null,
   "metadata": {},
   "outputs": [],
   "source": [
    "# set paths\n",
    "import os\n",
    "import sys\n",
    "\n",
    "sys.path.insert(0, \"../Bitcoin_Transactions_analysis\")\n",
    "sys.path.insert(0, \"../source\")\n",
    "print(os.getcwd())"
   ]
  },
  {
   "cell_type": "code",
   "execution_count": null,
   "metadata": {},
   "outputs": [],
   "source": [
    "import os\n",
    "\n",
    "print(os.getcwd())\n",
    "# os.chdir(\"/mnt/DD2/bitcoinJson2016\"), print(os.getcwd())\n",
    "from functions_write_save_load_data import *\n",
    "from functions_check_in_data import *\n",
    "from functions_extract_transform_data import *\n",
    "from extract_results import *"
   ]
  },
  {
   "cell_type": "code",
   "execution_count": null,
   "metadata": {},
   "outputs": [],
   "source": [
    "# Load the clusters\n",
    "## obtained with 1\n",
    "h1 = load_dumped_data(\"../all_h1_clusters.pickle\", \"pickle\")"
   ]
  },
  {
   "cell_type": "code",
   "execution_count": null,
   "metadata": {},
   "outputs": [],
   "source": [
    "## obtained with h1 and h2\n",
    "h1_h2 = load_dumped_data(\"../all_h1h2_clusters.pickle\", \"pickle\")"
   ]
  },
  {
   "cell_type": "code",
   "execution_count": null,
   "metadata": {},
   "outputs": [],
   "source": [
    "# number of clusters\n",
    "len(h1), len(h1_h2)"
   ]
  },
  {
   "cell_type": "code",
   "execution_count": null,
   "metadata": {},
   "outputs": [],
   "source": [
    "# biggest clusters obtained with h1, \n",
    "size_h1 = biggest_clusters(h1)\n",
    "size_h1[:10]"
   ]
  },
  {
   "cell_type": "code",
   "execution_count": null,
   "metadata": {},
   "outputs": [],
   "source": [
    "# biggest clusters obtained with h1, \n",
    "size_h1h2 = biggest_clusters(h1_h2)\n",
    "size_h1h2[:10]"
   ]
  },
  {
   "cell_type": "code",
   "execution_count": null,
   "metadata": {},
   "outputs": [],
   "source": [
    "import pandas as pd\n",
    "\n",
    "to_write = pd.merge(size_h1.iloc[0:10], size_h1h2[0:10], on=\"Cluster_Id\")\n",
    "to_write"
   ]
  },
  {
   "cell_type": "code",
   "execution_count": null,
   "metadata": {},
   "outputs": [],
   "source": [
    "write_table_in_latex(to_write, \"latex_tables\", 'Biggest clusters: h1 vs h1-h2')"
   ]
  },
  {
   "cell_type": "code",
   "execution_count": null,
   "metadata": {},
   "outputs": [],
   "source": [
    "# Most frequent clusters h1\n",
    "df_h1 = nb_addresses_freq_in_clusters(h1)\n",
    "df_h1[:10]"
   ]
  },
  {
   "cell_type": "code",
   "execution_count": null,
   "metadata": {},
   "outputs": [],
   "source": [
    "#  Most frequent clusters h1-h2\n",
    "df_h1h2 = nb_addresses_freq_in_clusters(h1_h2)\n",
    "df_h1h2[:10]"
   ]
  },
  {
   "cell_type": "code",
   "execution_count": null,
   "metadata": {},
   "outputs": [],
   "source": [
    "import pandas as pd\n",
    "\n",
    "to_write = pd.merge(df_h1.iloc[0:10], df_h1h2[0:10], on=\"nb_ads\")\n",
    "to_write"
   ]
  },
  {
   "cell_type": "code",
   "execution_count": null,
   "metadata": {},
   "outputs": [],
   "source": [
    "# Write in a latex table\n",
    "write_table_in_latex(to_write, \"latex_tables\", \"Most frequent clusters : h1 vs h1-h2\")"
   ]
  }
 ],
 "metadata": {
  "kernelspec": {
   "display_name": "Python 3",
   "language": "python",
   "name": "python3"
  },
  "language_info": {
   "codemirror_mode": {
    "name": "ipython",
    "version": 3
   },
   "file_extension": ".py",
   "mimetype": "text/x-python",
   "name": "python",
   "nbconvert_exporter": "python",
   "pygments_lexer": "ipython3",
   "version": "3.7.5"
  },
  "toc": {
   "base_numbering": 1,
   "nav_menu": {},
   "number_sections": true,
   "sideBar": true,
   "skip_h1_title": false,
   "title_cell": "Table of Contents",
   "title_sidebar": "Contents",
   "toc_cell": false,
   "toc_position": {},
   "toc_section_display": true,
   "toc_window_display": true
  }
 },
 "nbformat": 4,
 "nbformat_minor": 4
}
