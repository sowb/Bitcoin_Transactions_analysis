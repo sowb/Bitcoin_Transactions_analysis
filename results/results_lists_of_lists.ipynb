{
 "cells": [
  {
   "cell_type": "markdown",
   "metadata": {},
   "source": [
    "# Results obtained from the lists of lists\n",
    "* Most frequent number of transactions in Input-Ouput\n",
    "* Compute the most frequent addresses in Input and Output\n",
    "\n",
    "Warning :  \n",
    "   - You may encounter memory errors\n",
    "   - 1 list of lists take 30 GB in RAM memory"
   ]
  },
  {
   "cell_type": "code",
   "execution_count": null,
   "metadata": {},
   "outputs": [],
   "source": [
    "# set paths\n",
    "import os\n",
    "import sys\n",
    "\n",
    "sys.path.insert(0, \"../Bitcoin_Transactions_analysis\")\n",
    "sys.path.insert(0, \"../source\")\n",
    "print(os.getcwd())"
   ]
  },
  {
   "cell_type": "code",
   "execution_count": null,
   "metadata": {},
   "outputs": [],
   "source": [
    "# modules\n",
    "import numpy as np\n",
    "import pandas as pd\n",
    "from functions_write_save_load_data import (\n",
    "    load_row_by_row,\n",
    "    write_table_in_latex,\n",
    "    dump_variable,\n",
    "    load_dumped_data,\n",
    ")\n",
    "from functions_extract_transform_data import rewrite"
   ]
  },
  {
   "cell_type": "markdown",
   "metadata": {},
   "source": [
    "## Most Freq. Couples (ins, outs) in Txs"
   ]
  },
  {
   "cell_type": "code",
   "execution_count": null,
   "metadata": {},
   "outputs": [],
   "source": [
    "%%time\n",
    "# Couples nb of adresses in input-ouput in tx\n",
    "# Load the lists of lists using generators for memory efficiency\n",
    "ins = (len(r) for r in load_row_by_row(\"../input_addresses_int\"))\n",
    "outs = (len(r) for r in load_row_by_row(\"../output_addresses_int\"))\n",
    "couples = list(zip(ins, outs))"
   ]
  },
  {
   "cell_type": "code",
   "execution_count": null,
   "metadata": {},
   "outputs": [],
   "source": [
    "import pandas as pd\n",
    "from collections import Counter\n",
    "# 10 Freq couples in a DataFrame\n",
    "count_couples = Counter(couples).most_common()\n",
    "print(len(count_couples))\n",
    "to_df = count_couples[0:10]\n",
    "df1 = pd.DataFrame(to_df, columns=[\"couples\", \"counts\"])\n",
    "percentage = [((t[1] / len(couples)) * 100) for t in to_df]\n",
    "df1[\"%p\"] = percentage\n",
    "df1"
   ]
  },
  {
   "cell_type": "code",
   "execution_count": null,
   "metadata": {},
   "outputs": [],
   "source": [
    "# Converte the df in a LaTex table and save \n",
    "write_table_in_latex(df1, \"latex_tables.txt\", \"couples (in, outs) counts\")"
   ]
  },
  {
   "cell_type": "markdown",
   "metadata": {},
   "source": [
    "## Most Freq. Addresses"
   ]
  },
  {
   "cell_type": "code",
   "execution_count": null,
   "metadata": {},
   "outputs": [],
   "source": [
    "# Save the list of lists in numpy array for fast reloading\n",
    "## Input addresses\n",
    "input_addresses =[r for r in load_row_by_row('../input_addresses_int')]\n",
    "dump_variable(input_addresses,'../input_addresses_int.npy', 'npy')\n",
    "# clear the input addresses for ram memory\n",
    "%reset_selective  -f input_addresses"
   ]
  },
  {
   "cell_type": "code",
   "execution_count": null,
   "metadata": {},
   "outputs": [],
   "source": [
    "## Output addresses\n",
    "output_addresses = [r for r in load_row_by_row('../output_addresses_int')]\n",
    "dump_variable(output_addresses,'../output_addresses_int.npy', 'npy')\n",
    "%reset_selective -f output_addresses"
   ]
  },
  {
   "cell_type": "code",
   "execution_count": null,
   "metadata": {},
   "outputs": [],
   "source": [
    "# Compute and write the 10 most frequent addresses \n",
    "from extract_results import execute\n",
    "## Input addresses\n",
    "execute(\"../input_addresses_int.npy\", \"adds_ins_top10.pickle\", 'pickle')\n",
    "## Output addresses\n",
    "execute(\"../output_addresses_int.npy\", \"adds_outs_top10.pickle\", 'pickle')"
   ]
  },
  {
   "cell_type": "markdown",
   "metadata": {},
   "source": [
    "###### Write the top 10 most frequents addresses in latex tables"
   ]
  },
  {
   "cell_type": "code",
   "execution_count": null,
   "metadata": {},
   "outputs": [],
   "source": [
    "# free the ram memory holds by jupyter\n",
    "#%reset -f\n",
    "# change working directory\n",
    "#os.chdir(\"/mnt/DD2/bitcoinJson2016\")"
   ]
  },
  {
   "cell_type": "code",
   "execution_count": null,
   "metadata": {},
   "outputs": [],
   "source": [
    "# load the top ten\n",
    "ins_top10 = load_dumped_data(\"adds_ins_top10.pickle\", \"pickle\")\n",
    "outs_top10 = load_dumped_data(\"adds_outs_top10.pickle\", \"pickle\")\n",
    "\n",
    "# transform the result in panda dataframe\n",
    "ins_df = pd.DataFrame(ins_top10, columns=[\"addresses_ids\", \"counts\"])\n",
    "outs_df = pd.DataFrame(outs_top10, columns=[\"addresses_ids\", \"counts\"])\n",
    "\n",
    "# load the dict of addresses\n",
    "dic_ids_adds = load_dumped_data(\"../ids_addresses.pickle\", \"pickle\")\n",
    "\n",
    "# convert the int addresses to string addresses \n",
    "ins_df[\"name\"] = rewrite(ins_df[\"addresses_ids\"], dic_ids_adds)\n",
    "outs_df[\"name\"] = rewrite(outs_df[\"addresses_ids\"], dic_ids_adds)\n",
    "\n",
    "# rearrange the columns\n",
    "to_write_ins = ins_df[[\"addresses_ids\", \"name\", \"counts\"]]\n",
    "to_write_outs = outs_df[[\"addresses_ids\", \"name\", \"counts\"]]"
   ]
  },
  {
   "cell_type": "code",
   "execution_count": null,
   "metadata": {},
   "outputs": [],
   "source": [
    "# top 10 input addresses\n",
    "to_write_ins"
   ]
  },
  {
   "cell_type": "code",
   "execution_count": null,
   "metadata": {},
   "outputs": [],
   "source": [
    "# top 10 output addresses\n",
    "to_write_outs"
   ]
  },
  {
   "cell_type": "code",
   "execution_count": null,
   "metadata": {},
   "outputs": [],
   "source": [
    "# write the results in latex tables\n",
    "write_table_in_latex(\n",
    "    to_write_outs, \"latex_tables.txt\", \"Tables of most frequents addresses in output\"\n",
    ")\n",
    "write_table_in_latex(\n",
    "    to_write_ins, \"latex_tables.txt\", \"Tables of most frequents addresses in input\"\n",
    ")"
   ]
  }
 ],
 "metadata": {
  "kernelspec": {
   "display_name": "Python 3",
   "language": "python",
   "name": "python3"
  },
  "language_info": {
   "codemirror_mode": {
    "name": "ipython",
    "version": 3
   },
   "file_extension": ".py",
   "mimetype": "text/x-python",
   "name": "python",
   "nbconvert_exporter": "python",
   "pygments_lexer": "ipython3",
   "version": "3.7.5"
  },
  "toc": {
   "base_numbering": 1,
   "nav_menu": {},
   "number_sections": true,
   "sideBar": true,
   "skip_h1_title": false,
   "title_cell": "Table of Contents",
   "title_sidebar": "Contents",
   "toc_cell": false,
   "toc_position": {
    "height": "calc(100% - 180px)",
    "left": "10px",
    "top": "150px",
    "width": "384px"
   },
   "toc_section_display": true,
   "toc_window_display": true
  }
 },
 "nbformat": 4,
 "nbformat_minor": 4
}
