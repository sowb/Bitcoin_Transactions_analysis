{
 "cells": [
  {
   "cell_type": "markdown",
   "metadata": {},
   "source": [
    "# Neo4j Queries\n",
    "In this notebook we have performed some Neo4j queries. \n",
    "* We have computed some statistics on the Clusters, on the Addresses,   \n",
    "   and on the Transactions.\n",
    "* This notebook has been tested on a Bitcoin graph built with 2 BTC data files\n",
    "* On the Bitcoin graph built with all the 150M transactions, some queries will   \n",
    "  take long and/or you may encounter memory problems.\n",
    "* Before running this notebook, you need to run Neo4j and the graph first by using   \n",
    "  a SSH. \n",
    "\n"
   ]
  },
  {
   "cell_type": "code",
   "execution_count": null,
   "metadata": {},
   "outputs": [],
   "source": [
    "# modules\n",
    "import os\n",
    "import sys\n",
    "import numpy as np\n",
    "import pandas as pd\n",
    "from py2neo import Graph\n",
    "\n",
    "# set paths\n",
    "sys.path.insert(0, \"../Bitcoin_Transactions_analysis\")\n",
    "sys.path.insert(0, \"../source\")\n",
    "\n",
    "from functions_write_save_load_data import write_table_in_latex, dump_variable\n",
    "from extract_results import *"
   ]
  },
  {
   "cell_type": "markdown",
   "metadata": {},
   "source": [
    "## The Graph"
   ]
  },
  {
   "cell_type": "code",
   "execution_count": null,
   "metadata": {},
   "outputs": [],
   "source": [
    "# Connection to the Neo4j Graph (from laptop)\n",
    "from py2neo import Graph\n",
    "\n",
    "graph = Graph(\"bolt://localhost:7687\", auth=(\"neo4j\", \"xxxxxx\"))"
   ]
  },
  {
   "cell_type": "code",
   "execution_count": null,
   "metadata": {},
   "outputs": [],
   "source": [
    "# CONNECTION TO THE GRAPH from the server\n",
    "graph = Graph(\"bolt://134.214.108.191:7687\", auth=(\"neo4j\", \"+++++++\"))"
   ]
  },
  {
   "cell_type": "code",
   "execution_count": null,
   "metadata": {},
   "outputs": [],
   "source": [
    "#  Number of nodes (labels), FAST query\n",
    "q = \"\"\"CALL apoc.meta.stats() YIELD labels\n",
    "RETURN labels \n",
    "\"\"\"\n",
    "df = graph.run(q).to_table()\n",
    "df"
   ]
  },
  {
   "cell_type": "code",
   "execution_count": null,
   "metadata": {},
   "outputs": [],
   "source": [
    "# Rels types\n",
    "q = \"\"\"CALL db.relationshipTypes() YIELD relationshipType as type\n",
    "CALL apoc.cypher.run('MATCH ()-[:`'+type+'`]->() RETURN count(*) as count',{}) YIELD value\n",
    "RETURN type, value.count\"\"\"\n",
    "df = graph.run(q).to_data_frame()\n",
    "df"
   ]
  },
  {
   "cell_type": "code",
   "execution_count": null,
   "metadata": {},
   "outputs": [],
   "source": [
    "# write this result in a latex table\n",
    "write_table_in_latex(df, \"latex_tables.txt\", \"Nombres de liens de chaque catégorie\")"
   ]
  },
  {
   "cell_type": "code",
   "execution_count": null,
   "metadata": {},
   "outputs": [],
   "source": [
    "# Nodes types\n",
    "q = \"\"\"CALL db.labels() YIELD label\n",
    "CALL apoc.cypher.run('MATCH (:`'+label+'`) RETURN count(*) as count',{}) YIELD value\n",
    "RETURN label, value.count\n",
    "\"\"\"\n",
    "df = graph.run(q).to_data_frame()\n",
    "df"
   ]
  },
  {
   "cell_type": "code",
   "execution_count": null,
   "metadata": {},
   "outputs": [],
   "source": [
    "# write this result in a latex table\n",
    "write_table_in_latex(df, \"latex_tables.txt\", \"Nombres de Noeuds de chaque catégorie\")"
   ]
  },
  {
   "cell_type": "code",
   "execution_count": null,
   "metadata": {},
   "outputs": [],
   "source": [
    "# Total number of rels\n",
    "q = \"\"\"CALL apoc.meta.stats() YIELD relCount\n",
    "RETURN relCount\n",
    "\"\"\"\n",
    "\n",
    "graph.run(q).to_table()"
   ]
  },
  {
   "cell_type": "markdown",
   "metadata": {},
   "source": [
    "## Clusters/Actors"
   ]
  },
  {
   "cell_type": "code",
   "execution_count": null,
   "metadata": {},
   "outputs": [],
   "source": [
    "# count the size of the cluster 1\n",
    "q = \"\"\"MATCH (n:Actors{cluster_size : \"1\"})\n",
    "RETURN count(*) as count\n",
    "\"\"\"\n",
    "graph.run(q).to_table()"
   ]
  },
  {
   "cell_type": "code",
   "execution_count": null,
   "metadata": {},
   "outputs": [],
   "source": [
    "# Number of clusters and their sizes\n",
    "q = \"\"\"MATCH (n:Actors)\n",
    "RETURN n.name AS clusters, toInteger(n.cluster_size) AS size \n",
    "ORDER BY size DESC\n",
    "LIMIT 10\n",
    "\"\"\"\n",
    "top10 = graph.run(q).to_table()\n",
    "top10"
   ]
  },
  {
   "cell_type": "code",
   "execution_count": null,
   "metadata": {},
   "outputs": [],
   "source": [
    "# smallest clusters and how many times their appears\n",
    "q = \"\"\" MATCH (n:Actors)\n",
    "RETURN n.cluster_size AS size, COUNT(n.cluster_size) AS counts\n",
    "ORDER by counts DESC\n",
    "LIMIT 10\n",
    "\"\"\"\n",
    "graph.run(q).to_data_frame()"
   ]
  },
  {
   "cell_type": "code",
   "execution_count": null,
   "metadata": {},
   "outputs": [],
   "source": [
    "# higest output values for the biggest actor : actor 0\n",
    "q = \"\"\"MATCH p=(ac:Actors {name:'actor 0'})-[BELONG_TO_ACTOR]-(ad:Addresses)-[t:IS_IN_TRANSACTION{Tx_INS_or_OUTS:'out'}]->(tx:Transactions)\n",
    "WHERE NOT t.value =  'no_value'\n",
    "RETURN count(*) AS nb_outs, toInteger(t.value) AS values\n",
    "ORDER BY values DESC\n",
    "\"\"\"\n",
    "d = graph.run(q).to_data_frame()\n",
    "d.sum()"
   ]
  },
  {
   "cell_type": "code",
   "execution_count": null,
   "metadata": {},
   "outputs": [],
   "source": [
    "# Export the result obtained using the query in a csv file\n",
    "# The result is saved in Neo4j in the folder named 'import'\n",
    "q = \"\"\"CALL apoc.export.csv.query(\"MATCH p=(ac:Actors {name:'actor 0'})-[BELONG_TO_ACTOR]-(ad:Addresses)-[t:IS_IN_TRANSACTION{Tx_INS_or_OUTS:'out'}]->(tx:Transactions)\n",
    "WITH DISTINCT p, t\n",
    "RETURN count(*) AS nb_outs, toInteger(t.value) AS values\", \"actor_0.csv\", {})\"\"\"\n",
    "\n",
    "graph.run(q)"
   ]
  },
  {
   "cell_type": "code",
   "execution_count": null,
   "metadata": {},
   "outputs": [],
   "source": [
    "# Identified Actors and their names\n",
    "q = \"\"\"MATCH(ac:Actors)\n",
    "MATCH p=(ad:Addresses)-[r]-(ac)\n",
    "WHERE NOT (ad.actor_identity = 'NA')\n",
    "\n",
    "RETURN ac.name AS actor_ID, ac.cluster_size AS nb_Adresses, collect(DISTINCT ad.actor_identity) as Actor_Identities\n",
    "LIMIT 10\n",
    "\n",
    "\"\"\"\n",
    "top10 = graph.run(q).to_table()\n",
    "top10"
   ]
  },
  {
   "cell_type": "code",
   "execution_count": null,
   "metadata": {},
   "outputs": [],
   "source": [
    "# Number of identified names for all actors\n",
    "q = \"\"\"MATCH (ad:Addresses)-[r]-(ac:Actors)\n",
    "WHERE NOT (ad.actor_identity = 'NA')\n",
    "RETURN ac.name as actor, count(*) AS nb_identities\n",
    "ORDER BY nb_identities DESC\n",
    "LIMIT 10\n",
    "\"\"\"\n",
    "df = graph.run(q).to_data_frame()\n",
    "df"
   ]
  },
  {
   "cell_type": "code",
   "execution_count": null,
   "metadata": {},
   "outputs": [],
   "source": [
    "# To convert ids to integer\n",
    "q = \"\"\"MATCH(ac:Actors)\n",
    "SET ac.actorsId = toInteger(ac.actorsId)\"\"\"\n",
    "graph.run(q)"
   ]
  },
  {
   "cell_type": "code",
   "execution_count": null,
   "metadata": {},
   "outputs": [],
   "source": [
    "# Actors with most transactions in Input and their total values\n",
    "q = \"\"\"MATCH p=(ac:Actors)<-[r:BELONG_TO_ACTOR]-(ad:Addresses)-[t:IS_IN_TRANSACTION{Tx_INS_or_OUTS:'in'}]->(tx:Transactions)\n",
    "WHERE NOT t.value = 'no_value'\n",
    "WITH DISTINCT t, p, ac\n",
    "RETURN ac.name, count(*) AS nb_txs_ins, sum(toInteger(t.value)) AS values\n",
    "ORDER BY nb_txs_ins DESC\n",
    "LIMIT 10\n",
    "\"\"\"\n",
    "graph.run(q).to_data_frame()"
   ]
  },
  {
   "cell_type": "code",
   "execution_count": null,
   "metadata": {},
   "outputs": [],
   "source": [
    "# Actors with most transactions in Output and  their total values\n",
    "q = \"\"\"MATCH p=(ac:Actors)<-[r:BELONG_TO_ACTOR]-(ad:Addresses)-[t:IS_IN_TRANSACTION{Tx_INS_or_OUTS:'out'}]->(tx:Transactions)\n",
    "WHERE NOT t.value = 'no_value'\n",
    "WITH DISTINCT t, ac, p\n",
    "RETURN ac.name, count(*) AS nb_txs_outs, sum(toInteger(t.value)) AS values\n",
    "ORDER BY nb_txs_outs DESC\n",
    "LIMIT 10\n",
    "\"\"\"\n",
    "graph.run(q).to_data_frame()"
   ]
  },
  {
   "cell_type": "code",
   "execution_count": null,
   "metadata": {},
   "outputs": [],
   "source": [
    "# Actors appeared in most transactions (in or outs)\n",
    "q = \"\"\"MATCH p=(ac:Actors)<-[r:BELONG_TO_ACTOR]-(ad:Addresses)-[t:IS_IN_TRANSACTION]->(tx:Transactions)\n",
    "RETURN ac.name, collect(distinct ad.actor_identity), count(*) AS nb_liens\n",
    "ORDER BY nb_liens DESC\n",
    "LIMIT 10\n",
    "\"\"\"\n",
    "graph.run(q).to_data_frame()"
   ]
  },
  {
   "cell_type": "code",
   "execution_count": null,
   "metadata": {},
   "outputs": [],
   "source": [
    "# Top 10 biggest clusters : Sum of the of output values\n",
    "q = \"\"\"\n",
    "MATCH p=(ac:Actors)-[BELONG_TO_ACTOR]-(ad:Addresses)-[t:IS_IN_TRANSACTION{Tx_INS_or_OUTS:'out'}]->(tx:Transactions)\n",
    "WHERE ac.name >= 'actor 0' AND ac.name < 'actor 9'\n",
    "RETURN ac.name as name, ac.cluster_size AS nb_addresses, count(*) AS nb_addresses_outs, sum(toInteger(t.value)) AS sum_values\n",
    "ORDER BY sum_values DESC\n",
    "LIMIT 10\n",
    "\"\"\"\n",
    "d = graph.run(q).to_data_frame()\n",
    "d"
   ]
  },
  {
   "cell_type": "markdown",
   "metadata": {},
   "source": [
    "## Mining "
   ]
  },
  {
   "cell_type": "code",
   "execution_count": null,
   "metadata": {},
   "outputs": [],
   "source": [
    "# Mining actors nodes\n",
    "q = \"\"\"MATCH(ad:Addresses{bitcoin_addresse:'0'})-[r]-(ac:Actors)\n",
    "RETURN ac\"\"\"\n",
    "graph.run(q).to_table()"
   ]
  },
  {
   "cell_type": "code",
   "execution_count": null,
   "metadata": {},
   "outputs": [],
   "source": [
    "# nb of mining\n",
    "q = \"\"\"MATCH p=(ac:Actors{name:'actor 605590'})--(ad:Addresses)-[r:IS_IN_TRANSACTION]->(tx:Transactions)\n",
    "//WHERE NOT r.value='no_value'\n",
    "RETURN count(*) AS nb_minage\n",
    "\"\"\"\n",
    "graph.run(q).to_table()"
   ]
  },
  {
   "cell_type": "code",
   "execution_count": null,
   "metadata": {},
   "outputs": [],
   "source": [
    "# nb of mining\n",
    "q = \"\"\"MATCH p=(ac:Actors{name:'actor 605590'})--(ad:Addresses)-[r:IS_IN_TRANSACTION]->(tx:Transactions)\n",
    "WITH ad\n",
    "MATCH x=(:Transactions)-[t:IS_IN_TRANSACTION{Tx_INS_or_OUTS:'in'}]-(ad)\n",
    "WITH DISTINCT x\n",
    "RETURN count(x)\n",
    "\"\"\"\n",
    "graph.run(q).to_table()"
   ]
  },
  {
   "cell_type": "code",
   "execution_count": null,
   "metadata": {},
   "outputs": [],
   "source": [
    "q = \"\"\"MATCH p=(ac:Actors{name:'actor 605590'})--(ad:Addresses)-[r:IS_IN_TRANSACTION]->(tx:Transactions)\n",
    "WITH ad\n",
    "MATCH x=(:Transactions)-[t:IS_IN_TRANSACTION{Tx_INS_or_OUTS:'in'}]-(ad)\n",
    "RETURN x\n",
    "\"\"\"\n",
    "graph.run(q).to_table()"
   ]
  },
  {
   "cell_type": "markdown",
   "metadata": {},
   "source": [
    "## Transactions"
   ]
  },
  {
   "cell_type": "code",
   "execution_count": null,
   "metadata": {},
   "outputs": [],
   "source": [
    "# Top 10 : Transactions with the highest values in input\n",
    "q = \"\"\"MATCH p=(ad:Addresses)-[r:IS_IN_TRANSACTION{Tx_INS_or_OUTS:'in'}]->(tx:Transactions)\n",
    "WHERE NOT r.value='no_value'\n",
    "RETURN ad.bitcoin_addresse, toInteger(r.value) AS values, tx.name\n",
    "ORDER by values DESC\n",
    "LIMIT 10\n",
    "\"\"\"\n",
    "df = graph.run(q).to_data_frame()\n",
    "df"
   ]
  },
  {
   "cell_type": "code",
   "execution_count": null,
   "metadata": {},
   "outputs": [],
   "source": [
    "# Top 10 : Transactions with the highest values in output\n",
    "q = \"\"\"MATCH p=(ad:Addresses)-[r:IS_IN_TRANSACTION{Tx_INS_or_OUTS:'out'}]->(tx:Transactions)\n",
    "WHERE NOT r.value='no_value'\n",
    "RETURN ad.bitcoin_addresse, toInteger(r.value) AS values, tx.name\n",
    "ORDER by values DESC\n",
    "LIMIT 10\n",
    "\"\"\"\n",
    "df = graph.run(q).to_data_frame()\n",
    "df"
   ]
  },
  {
   "cell_type": "code",
   "execution_count": null,
   "metadata": {},
   "outputs": [],
   "source": [
    "# Transactions with the most diffrent actors in output\n",
    "q = \"\"\"MATCH p=(tx:Transactions)<-[r:IS_IN_TRANSACTION{Tx_INS_or_OUTS:'out'}]-(ad:Addresses)-->(ac:Actors)\n",
    "RETURN tx.name, collect(distinct ac.name) AS lists_of_actors, count(ac) AS nb_actors\n",
    "\"\"\"\n",
    "graph.run(q).to_table()"
   ]
  },
  {
   "cell_type": "code",
   "execution_count": null,
   "metadata": {},
   "outputs": [],
   "source": [
    "q = \"\"\"CALL apoc.export.csv.query(\"MATCH p=(tx:Transactions)<-[r:IS_IN_TRANSACTION{Tx_INS_or_OUTS:'out'}]-(ad:Addresses)-->(ac:Actors)\n",
    "RETURN tx.name, collect(distinct ac.name)\", \"txs_actors_out.csv\", {})\n",
    "\"\"\"\n",
    "graph.run(q)"
   ]
  },
  {
   "cell_type": "code",
   "execution_count": null,
   "metadata": {},
   "outputs": [],
   "source": [
    "# Number of transactions per timestamp\n",
    "q = \"\"\"MATCH(tx:Transactions)\n",
    "RETURN tx.timestamp, count(tx.timestamp) AS counts\n",
    "ORDER BY counts DESC\n",
    "LIMIT 10\"\"\"\n",
    "graph.run(q).to_table()"
   ]
  },
  {
   "cell_type": "code",
   "execution_count": null,
   "metadata": {},
   "outputs": [],
   "source": [
    "# Number of transactions in time and the sum of total values\n",
    "q = \"\"\"MATCH(tx:Transactions)\n",
    "RETURN tx.timestamp, count(tx.timestamp) AS nb_transactions, sum(toInteger(tx.total_value)) AS BTC_used\n",
    "ORDER BY nb_transactions DESC\n",
    "LIMIT 10\"\"\"\n",
    "graph.run(q).to_table()"
   ]
  },
  {
   "cell_type": "markdown",
   "metadata": {},
   "source": [
    "## Addresses"
   ]
  },
  {
   "cell_type": "code",
   "execution_count": null,
   "metadata": {},
   "outputs": [],
   "source": [
    "# Bitcoin received by an address\n",
    "q = \"\"\"MATCH p=(ad:Addresses{bitcoin_addresse:\"1eHhgW6vquBYhwMPhQ668HPjxTtpvZGPC\"})-[r:IS_IN_TRANSACTION{Tx_INS_or_OUTS:'out'}]->(tx:Transactions)\n",
    "RETURN sum(toInteger(r.value)) AS Satoshi_Outs\"\"\"\n",
    "graph.run(q).to_data_frame()"
   ]
  },
  {
   "cell_type": "code",
   "execution_count": null,
   "metadata": {},
   "outputs": [],
   "source": [
    "# Top 10 RICH ADDS outs. Richest adds which received bitcoins\n",
    "q = \"\"\"MATCH p=(ad:Addresses)-[r:IS_IN_TRANSACTION{Tx_INS_or_OUTS:'out'}]->(tx:Transactions)\n",
    "RETURN ad.bitcoin_addresse AS BTC_Addresse, ad.actor_identity AS Actor_ID, sum(toInteger(r.value)) AS Satoshi_Outs\n",
    "ORDER BY Satoshi_Outs DESC\n",
    "LIMIT 10\n",
    "\"\"\"\n",
    "rich_adds = graph.run(q).to_data_frame()"
   ]
  },
  {
   "cell_type": "code",
   "execution_count": null,
   "metadata": {},
   "outputs": [],
   "source": [
    "# Conversion from satoshi to BTC\n",
    "rich_adds[\"BTC_Outs\"] = rich_adds[\"Satoshi_Outs\"] / 10 ** 8\n",
    "rich_adds"
   ]
  },
  {
   "cell_type": "code",
   "execution_count": null,
   "metadata": {},
   "outputs": [],
   "source": [
    "# TOP 10 RICH ADDS ins, Richest adds which sent bitcoins\n",
    "q = \"\"\"MATCH p=(ad:Addresses)-[r:IS_IN_TRANSACTION{Tx_INS_or_OUTS:'in'}]->(tx:Transactions)\n",
    "RETURN ad.bitcoin_addresse AS BTC_Addresse, ad.actor_identity AS Actor_ID, sum(toInteger(r.value)) AS Satoshi_Ins\n",
    "ORDER BY Satoshi_Ins DESC\n",
    "LIMIT 10\n",
    "\"\"\"\n",
    "spending_adds = graph.run(q).to_data_frame()"
   ]
  },
  {
   "cell_type": "code",
   "execution_count": null,
   "metadata": {},
   "outputs": [],
   "source": [
    "\n",
    "spending_adds[\"BTC_Ins\"] = spending_adds[\"Satoshi_Ins\"] / 10 ** 8\n",
    "spending_adds"
   ]
  },
  {
   "cell_type": "code",
   "execution_count": null,
   "metadata": {},
   "outputs": [],
   "source": [
    "# most frequent addresses in input transactions\n",
    "q = \"\"\"MATCH(a:Addresses)-[t:IS_IN_TRANSACTION{Tx_INS_or_OUTS:'in'}]-()\n",
    "WHERE NOT t.value = 'no_value'\n",
    "RETURN a.name, a.actor_identity, count(*) AS most_freq, sum(toInteger(t.value)) as sum_values\n",
    "ORDER BY most_freq DESC\n",
    "LIMIT 10\n",
    "\"\"\"\n",
    "graph.run(q).to_table()"
   ]
  },
  {
   "cell_type": "code",
   "execution_count": null,
   "metadata": {},
   "outputs": [],
   "source": [
    "# most frequent addresses in output transactions and the sum of BTC received\n",
    "q = \"\"\"MATCH(a:Addresses)-[t:IS_IN_TRANSACTION{Tx_INS_or_OUTS:'out'}]-()\n",
    "WHERE NOT t.value = 'no_value'\n",
    "RETURN a.name, count(*) AS most_freq, sum(toInteger(t.value)) as sum_values\n",
    "ORDER BY most_freq DESC\n",
    "LIMIT 10\n",
    "\"\"\"\n",
    "graph.run(q).to_table()"
   ]
  },
  {
   "cell_type": "code",
   "execution_count": null,
   "metadata": {},
   "outputs": [],
   "source": [
    "# BTC values for the addresse 1527626\n",
    "q = \"\"\"MATCH(a:Addresses{name:\"addresse 1527626\"})-[r:IS_IN_TRANSACTION{Tx_INS_or_OUTS:'out'}]-()\n",
    "RETURN sum(toInteger(r.value)) as sum_values\"\"\"\n",
    "graph.run(q).to_table()"
   ]
  },
  {
   "cell_type": "code",
   "execution_count": null,
   "metadata": {},
   "outputs": [],
   "source": [
    "# most frequent values in input transactions and the sum of BTC sent\n",
    "q = \"\"\"MATCH(a:Addresses)-[r:IS_IN_TRANSACTION{Tx_INS_or_OUTS:'in'}]-()\n",
    "RETURN r.value, count(*) AS most_freq\n",
    "ORDER BY most_freq DESC\n",
    "LIMIT 10\n",
    "\"\"\"\n",
    "graph.run(q).to_data_frame()"
   ]
  }
 ],
 "metadata": {
  "kernelspec": {
   "display_name": "Python 3",
   "language": "python",
   "name": "python3"
  },
  "language_info": {
   "codemirror_mode": {
    "name": "ipython",
    "version": 3
   },
   "file_extension": ".py",
   "mimetype": "text/x-python",
   "name": "python",
   "nbconvert_exporter": "python",
   "pygments_lexer": "ipython3",
   "version": "3.7.5"
  },
  "toc": {
   "base_numbering": 1,
   "nav_menu": {},
   "number_sections": true,
   "sideBar": true,
   "skip_h1_title": false,
   "title_cell": "Table of Contents",
   "title_sidebar": "Contents",
   "toc_cell": false,
   "toc_position": {},
   "toc_section_display": true,
   "toc_window_display": true
  }
 },
 "nbformat": 4,
 "nbformat_minor": 4
}
