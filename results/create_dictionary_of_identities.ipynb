{
 "cells": [
  {
   "cell_type": "markdown",
   "metadata": {},
   "source": [
    "# Notebook used to create the dictionary of the names\n",
    "We used 3 sources of data do create this dictionary, the labels collected by:\n",
    "* Bartoletti et al.(2018)\n",
    "* Meikeljon et al.(2013)\n",
    "* Web scrapping did by the students\n",
    "* Blockchain.com\n",
    "\n",
    "The data are stored in the folder /mnt/DD2/bitcoinJson2016  \n",
    "In the following lines we are:\n",
    "- first loading the csv files containing the data as a Pandas DataFrame\n",
    "- Transforming each DataFrame to have 2 columns : name and addresses\n",
    "- Each row contains one name and one address\n",
    "- Then we append all DataFrame, and convert it to a dictionary\n",
    "- We gather all the data and build one dictionary of the labels\n"
   ]
  },
  {
   "cell_type": "code",
   "execution_count": null,
   "metadata": {},
   "outputs": [],
   "source": [
    "# modules\n",
    "import os\n",
    "import pandas as pd\n",
    "from functions_check_in_data import *\n",
    "from functions_extract_transform_data import *\n",
    "from functions_write_save_load_data import *"
   ]
  },
  {
   "cell_type": "markdown",
   "metadata": {},
   "source": [
    "###### LIST ADDRESSES 1\n",
    "Source : Bartoletti et al.(2018)  \n",
    "Link : https://github.com/bitcoinponzi/BitcoinPonziTool/tree/master/CSV/Address"
   ]
  },
  {
   "cell_type": "code",
   "execution_count": null,
   "metadata": {},
   "outputs": [],
   "source": [
    "# charge ADDRESSES #1\n",
    "data_1 = pd.read_csv(\"addresses1.csv\", skipinitialspace=True)\n",
    "data_1[0:10]"
   ]
  },
  {
   "cell_type": "markdown",
   "metadata": {},
   "source": [
    "###### LIST ADDRESSES 2\n",
    "Source : Bartoletti et al.(2018)  \n",
    "Link : https://github.com/bitcoinponzi/BitcoinPonziTool/tree/master/CSV/Address"
   ]
  },
  {
   "cell_type": "code",
   "execution_count": null,
   "metadata": {},
   "outputs": [],
   "source": [
    "data_2 = pd.read_csv(\"addresses2.csv\", skipinitialspace=True, usecols=[0, 1])\n",
    "data_2.iloc[1:10]"
   ]
  },
  {
   "cell_type": "code",
   "execution_count": null,
   "metadata": {},
   "outputs": [],
   "source": [
    "# Some names in data_2 have multiple addresses in one line\n",
    "# Let put each of those addresses in one line\n",
    "from itertools import chain\n",
    "\n",
    "df = data_2\n",
    "\n",
    "\n",
    "# return list from series of comma-separated strings\n",
    "def chainer(s):\n",
    "    return list(chain.from_iterable(s.str.split(\"-\")))\n",
    "\n",
    "\n",
    "# calculate lengths of splits\n",
    "lens = df[\"addresses\"].str.split(\"-\").map(len)\n",
    "\n",
    "# create new dataframe, repeating or chaining as appropriate\n",
    "data_2 = pd.DataFrame({\n",
    "    \"name\": np.repeat(df[\"name\"], lens),\n",
    "    \"addresses\": chainer(df[\"addresses\"])\n",
    "})\n",
    "data_2[:10]"
   ]
  },
  {
   "cell_type": "markdown",
   "metadata": {},
   "source": [
    "###### LIST ADDRESSES 3\n",
    "Source : Bartoletti et al.(2018)  \n",
    "Link : https://github.com/bitcoinponzi/BitcoinPonziTool/tree/master/CSV/Address"
   ]
  },
  {
   "cell_type": "code",
   "execution_count": null,
   "metadata": {
    "scrolled": true
   },
   "outputs": [],
   "source": [
    "#  Charge data\n",
    "data_3 = pd.read_csv(\"addresses3.csv\", usecols=[0, 1], skipinitialspace=True)\n",
    "data_3.iloc[25:35]"
   ]
  },
  {
   "cell_type": "markdown",
   "metadata": {},
   "source": [
    "###### LIST ADDRESSES 4\n",
    "This list of addresses was collected from : https://www.blockchain.com/btc/popular-addresses. "
   ]
  },
  {
   "cell_type": "code",
   "execution_count": null,
   "metadata": {},
   "outputs": [],
   "source": [
    "data_4 = pd.read_csv(\"addresses4.csv\", skipinitialspace=True, usecols=[0, 1])\n",
    "data_4.iloc[30:35]"
   ]
  },
  {
   "cell_type": "markdown",
   "metadata": {},
   "source": [
    "###### MEIKLEJOHN ADDRESSES\n",
    "This list addresses was collected by Meiklejohn and al.(2013)"
   ]
  },
  {
   "cell_type": "code",
   "execution_count": null,
   "metadata": {},
   "outputs": [],
   "source": [
    "data_5 = pd.read_csv(\"meiklejohn.csv\", header=None, usecols=[2, 3])\n",
    "data_5.columns = [\"addresses\", \"name\"]\n",
    "data_5 = data_5.drop_duplicates(keep=False)\n",
    "\n",
    "data_5[:10]"
   ]
  },
  {
   "cell_type": "markdown",
   "metadata": {},
   "source": [
    "###### Create a dictionary with 5 DataFrames"
   ]
  },
  {
   "cell_type": "code",
   "execution_count": null,
   "metadata": {},
   "outputs": [],
   "source": [
    "# Append all the dataframes into one\n",
    "adds_names = pd.concat([data_1, data_2, data_3, data_4, data_5])\n",
    "adds_names[:10]"
   ]
  },
  {
   "cell_type": "code",
   "execution_count": null,
   "metadata": {},
   "outputs": [],
   "source": [
    "# Total number of addresses obtained with the\n",
    "# Previous 5 DataFrames\n",
    "len(adds_names)"
   ]
  },
  {
   "cell_type": "code",
   "execution_count": null,
   "metadata": {},
   "outputs": [],
   "source": [
    "# Load the dictionary of addresses\n",
    "addresses_ids = load_dumped_data(\"addresses_ids.pickle\", \"pickle\")\n",
    "\n",
    "# and convert the addresses column of adds_name to integers\n",
    "adds_names[\"addresse_id\"] = force_rewrite(adds_names[\"addresses\"], addresses_ids)\n",
    "adds_names[20:25]"
   ]
  },
  {
   "cell_type": "code",
   "execution_count": null,
   "metadata": {},
   "outputs": [],
   "source": [
    "# Transform the DataFrame adds_names to a dictionary\n",
    "# where : the keys are addresses as integers, the\n",
    "# Values are the labels\n",
    "dictionary_names_int = pd.Series(adds_names.name.values,\n",
    "                                 index=adds_names.addresse_id).to_dict()\n",
    "del dictionary_names_int[\"NA\"]\n",
    "dictionary_names_int"
   ]
  },
  {
   "cell_type": "code",
   "execution_count": null,
   "metadata": {},
   "outputs": [],
   "source": [
    "# Total number of available labels in the data (until 2016)\n",
    "len(dictionary_names_int)"
   ]
  },
  {
   "cell_type": "code",
   "execution_count": null,
   "metadata": {},
   "outputs": [],
   "source": [
    "# A second dictionary where btc addresses are the keys\n",
    "# and the names are values.\n",
    "dictionary_names_str = pd.Series(adds_names.name.values,\n",
    "                                 index=adds_names.addresses).to_dict()\n",
    "# dictionary_names_str"
   ]
  },
  {
   "cell_type": "code",
   "execution_count": null,
   "metadata": {},
   "outputs": [],
   "source": [
    "# Total number of available labels in the data (until 2019)\n",
    "len(dictionary_names_str)"
   ]
  },
  {
   "cell_type": "markdown",
   "metadata": {},
   "source": [
    "######  LIST ADDRESSES BTTALK\n",
    "Web scrapping did by the Students. "
   ]
  },
  {
   "cell_type": "code",
   "execution_count": null,
   "metadata": {},
   "outputs": [],
   "source": [
    "#  Add the addresses from bttalk\n",
    "import json\n",
    "\n",
    "with open(\"bttalk.json\", \"r\") as f:\n",
    "    bttalk_adds = json.load(f)\n",
    "bttalk_adds[\"178aFfkk6eVr4nqnbfRX2f5zMh3r9zb2TH\"][\"Name\"], len(bttalk_adds)"
   ]
  },
  {
   "cell_type": "code",
   "execution_count": null,
   "metadata": {},
   "outputs": [],
   "source": [
    "# Add all the BTC addresses to dictionary_names_str\n",
    "for i, j in bttalk_adds.items():\n",
    "    dictionary_names_str[i] = j[\"Name\"]"
   ]
  },
  {
   "cell_type": "code",
   "execution_count": null,
   "metadata": {},
   "outputs": [],
   "source": [
    "# New number of total BTC addresses and their labels (until 2019)\n",
    "len(dictionary_names_str)"
   ]
  },
  {
   "cell_type": "code",
   "execution_count": null,
   "metadata": {},
   "outputs": [],
   "source": [
    "# save the dictionary of names: dictionary_names_str on the hard drive\n",
    "dump_variable(dictionary_names_str,\n",
    "              \"dictionary_of_btc_names_str.pickle\", \"pickle\")"
   ]
  },
  {
   "cell_type": "code",
   "execution_count": null,
   "metadata": {},
   "outputs": [],
   "source": [
    "# Create a dictionary of the bttalk addresses\n",
    "keys_adds = []  # The keys are the btc addresses\n",
    "values_names = []  # The values are the names\n",
    "for i, j in bttalk_adds.items():\n",
    "    keys_adds.append(i)\n",
    "    values_names.append(j[\"Name\"])\n",
    "\n",
    "# Convert the btc addresses to integers\n",
    "keys_adds = force_rewrite(keys_adds, addresses_ids)\n",
    "\n",
    "bttalk_adds_dic = dict(zip(keys_adds, values_names))\n",
    "del bttalk_adds_dic[\"NA\"]"
   ]
  },
  {
   "cell_type": "code",
   "execution_count": null,
   "metadata": {},
   "outputs": [],
   "source": [
    "# Number of addresses from bttalk\n",
    "len(bttalk_adds_dic)"
   ]
  },
  {
   "cell_type": "code",
   "execution_count": null,
   "metadata": {},
   "outputs": [],
   "source": [
    "# Add the addresses from bttalk_adds_dic to the dictionary_names_int\n",
    "conflict_adds = []  # Addresses present in both dictionaries\n",
    "for i, j in bttalk_adds_dic.items():\n",
    "    # If the address from bttalk is already in dictionary_names_int\n",
    "    if i in dictionary_names_int.keys():\n",
    "        print(i, dictionary_names_int[i])\n",
    "        conflict_adds.append(i)\n",
    "    dictionary_names_int[i] = j"
   ]
  },
  {
   "cell_type": "code",
   "execution_count": null,
   "metadata": {},
   "outputs": [],
   "source": [
    "# print the names of addresses that are in both dictionaries\n",
    "# check if they have the same names\n",
    "for i in conflict_adds:\n",
    "    print(bttalk_adds_dic[i])\n",
    "    print(dictionary_names_int[i])"
   ]
  },
  {
   "cell_type": "code",
   "execution_count": null,
   "metadata": {},
   "outputs": [],
   "source": [
    "# conflict_adds"
   ]
  },
  {
   "cell_type": "code",
   "execution_count": null,
   "metadata": {},
   "outputs": [],
   "source": [
    "# size of the new dictionary with all addresses in integers\n",
    "# and their labels\n",
    "len(dictionary_names_int)"
   ]
  },
  {
   "cell_type": "code",
   "execution_count": null,
   "metadata": {},
   "outputs": [],
   "source": [
    "# save the dictionary of names: dictionary_names_int on the hard drive\n",
    "dump_variable(dictionary_names_int,\n",
    "              \"dictionary_of_btc_names_int.pickle\", \"pickle\")"
   ]
  }
 ],
 "metadata": {
  "kernelspec": {
   "display_name": "Python 3",
   "language": "python",
   "name": "python3"
  },
  "language_info": {
   "codemirror_mode": {
    "name": "ipython",
    "version": 3
   },
   "file_extension": ".py",
   "mimetype": "text/x-python",
   "name": "python",
   "nbconvert_exporter": "python",
   "pygments_lexer": "ipython3",
   "version": "3.7.5"
  },
  "toc": {
   "base_numbering": 1,
   "nav_menu": {},
   "number_sections": true,
   "sideBar": true,
   "skip_h1_title": false,
   "title_cell": "Table of Contents",
   "title_sidebar": "Contents",
   "toc_cell": false,
   "toc_position": {},
   "toc_section_display": true,
   "toc_window_display": true
  }
 },
 "nbformat": 4,
 "nbformat_minor": 4
}
